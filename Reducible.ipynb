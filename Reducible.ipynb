{
 "cells": [
  {
   "cell_type": "markdown",
   "metadata": {},
   "source": [
    "##### Exercise 12-5\n",
    "Here’s another Car Talk Puzzler (https://www.cartalk.com/puzzler/browse):\n",
    "\n",
    ">*\"What is the longest English word, that remains a valid English word, as you remove its letters one at a time?*\n",
    "\n",
    ">*Now, letters can be removed from either end, or the middle, but you can’t rearrange any of the letters. Every time you drop a letter, you wind up with another English word. If you do that, you’re eventually going to wind up with one letter and that too is going to be an English word—one that’s found in the dictionary. I want to know what’s the longest word and how many letters does it have?*\n",
    "\n",
    ">*I’m going to give you a little modest example: Sprite. Ok? You start off with sprite, you take a letter off, one from the interior of the word, take the r away, and we’re left with the word spite, then we take the e off the end, we’re left with spit, we take the s off, we’re left with pit, it, and I.*\n",
    "\n",
    "Write a program to find all words that can be reduced in this way, and then find the longest one.\n",
    "\n",
    "\t\n",
    "This exercise is a little more challenging than most, so here are some suggestions:\n",
    "\n",
    "> 1. You might want to write a function that takes a word and computes an array of all the words that can be formed by removing one letter. These are the “children” of the word.\n",
    "\n",
    "> 2. Recursively, a word is reducible if any of its children are reducible. As a base case, you can consider the empty string reducible.\n",
    "\n",
    "> 3. The word list I provided, *words.txt*, doesn’t contain single letter words. So you might want to add “I”, “a”, and the empty string.\n",
    "\n",
    "> 4. To improve the performance of your program, you might want to memoize the words that are known to be reducible."
   ]
  },
  {
   "cell_type": "markdown",
   "metadata": {},
   "source": [
    "*This was by far the most challenging piece of code in the book.  I spent several hours trying to devise my own functions, but eventually threw in the towel and resorted to \"peeking\" at the code at the [GitHub repo for the author of __\"Think Python\"__](https://github.com/AllenDowney/ThinkPython2/blob/master/code/reducible.py \"reducible.py\"). What follows is an adaptation of the code from that repo*\n",
    "\n",
    "*It still took me several hours to adapt the Python code into working Julia code.  Julia handles Booleans, indexing, empty arrays, etc... quite differently from Python, so it took many trials (and a lot of error) for me to get the comparable Julia code.*\n",
    "\n",
    "*To keep everything tidy I erased most of my original attempts at the functions for this exercise.  However, there are drafts of the original code in my gmail inbox.*"
   ]
  },
  {
   "cell_type": "code",
   "execution_count": 9,
   "metadata": {},
   "outputs": [
    {
     "data": {
      "text/plain": [
       "IOStream(<file C:\\Users\\MC\\Desktop\\ThinkJulia\\words.txt>)"
      ]
     },
     "execution_count": 9,
     "metadata": {},
     "output_type": "execute_result"
    }
   ],
   "source": [
    "newfin = open(\"C:\\\\Users\\\\MC\\\\Desktop\\\\ThinkJulia\\\\wordsEdited.txt\")"
   ]
  },
  {
   "cell_type": "code",
   "execution_count": 2,
   "metadata": {},
   "outputs": [
    {
     "data": {
      "text/plain": [
       "Dict{Any,Any} with 113814 entries:\n",
       "  \"epinaoi\"         => nothing\n",
       "  \"nimbused\"        => nothing\n",
       "  \"pintoes\"         => nothing\n",
       "  \"interties\"       => nothing\n",
       "  \"inattentive\"     => nothing\n",
       "  \"cliquing\"        => nothing\n",
       "  \"photosynthesis\"  => nothing\n",
       "  \"sleepwalking\"    => nothing\n",
       "  \"chicanes\"        => nothing\n",
       "  \"lunk\"            => nothing\n",
       "  \"ethmoids\"        => nothing\n",
       "  \"reemitted\"       => nothing\n",
       "  \"henry\"           => nothing\n",
       "  \"hotheadednesses\" => nothing\n",
       "  \"planches\"        => nothing\n",
       "  \"entomb\"          => nothing\n",
       "  \"whiz\"            => nothing\n",
       "  \"redresses\"       => nothing\n",
       "  \"wormwoods\"       => nothing\n",
       "  \"hipnesses\"       => nothing\n",
       "  \"effacer\"         => nothing\n",
       "  \"clapboards\"      => nothing\n",
       "  \"overgrew\"        => nothing\n",
       "  \"swirliest\"       => nothing\n",
       "  \"doodlers\"        => nothing\n",
       "  ⋮                 => ⋮"
      ]
     },
     "execution_count": 2,
     "metadata": {},
     "output_type": "execute_result"
    }
   ],
   "source": [
    "worddict = Dict()\n",
    "\n",
    "for line in eachline(newfin)\n",
    "    word = lowercase(strip(line))\n",
    "    worddict[word] = nothing\n",
    "end\n",
    "\n",
    "for letter in ['a', 'i', \"\"]\n",
    "    worddict[letter] = letter\n",
    "end\n",
    "\n",
    "worddict"
   ]
  },
  {
   "cell_type": "code",
   "execution_count": 3,
   "metadata": {},
   "outputs": [
    {
     "data": {
      "text/plain": [
       "children (generic function with 1 method)"
      ]
     },
     "execution_count": 3,
     "metadata": {},
     "output_type": "execute_result"
    }
   ],
   "source": [
    "\"\"\"\n",
    "    children(word, worddict)\n",
    "\n",
    "Returns a list of all words that can be formed by removing one letter.\n",
    "\"\"\"\n",
    "\n",
    "function children(word, worddict)\n",
    "    \n",
    "    res = []\n",
    "    l = length(word)\n",
    "    \n",
    "    if l == 1\n",
    "        push!(res, \"\")\n",
    "    else\n",
    "        for i in 1:l\n",
    "            child = word[1:(i - 1)] * word[(i + 1):end]\n",
    "            if child in keys(worddict)\n",
    "                push!(res, child)\n",
    "            end\n",
    "        end\n",
    "    end\n",
    "    if length(res) > 0\n",
    "        return res\n",
    "    else \n",
    "        return false\n",
    "    end\n",
    "end"
   ]
  },
  {
   "cell_type": "code",
   "execution_count": 4,
   "metadata": {},
   "outputs": [
    {
     "data": {
      "text/plain": [
       "isreducible (generic function with 1 method)"
      ]
     },
     "execution_count": 4,
     "metadata": {},
     "output_type": "execute_result"
    }
   ],
   "source": [
    "\"\"\"\n",
    "    isreducible(word, worddict)\n",
    "\n",
    "Returns a list of its reducible children if a word is reducible.\n",
    "A string is reducible if it has at least one child that is also reducible.\n",
    "The empty string is considered to be reducible.\n",
    "Adds an entry to the memo dictionary.\n",
    "\"\"\"\n",
    "\n",
    "memo = Dict()\n",
    "memo[\"\"] = [\"\"]\n",
    "\n",
    "function isreducible(word, worddict)\n",
    "    \n",
    "    if word ∈ keys(memo)\n",
    "        return memo[word]\n",
    "    end\n",
    "    \n",
    "    res = []\n",
    "    for child in children(word, worddict)\n",
    "        if isreducible(child, worddict) != [] && isreducible(child, worddict) != [false]\n",
    "            push!(res, child)   \n",
    "        end\n",
    "    end\n",
    "    \n",
    "    memo[word] = res\n",
    "    return res\n",
    "end\n",
    "    "
   ]
  },
  {
   "cell_type": "code",
   "execution_count": 5,
   "metadata": {},
   "outputs": [
    {
     "data": {
      "text/plain": [
       "allreducible (generic function with 1 method)"
      ]
     },
     "execution_count": 5,
     "metadata": {},
     "output_type": "execute_result"
    }
   ],
   "source": [
    "\"\"\"\n",
    "    allreducible(worddict)\n",
    "\n",
    "Checks all words in the worddict and returns a list of reducible ones.\n",
    "\"\"\"\n",
    "\n",
    "function allreducible(worddict)\n",
    "    res = []\n",
    "    for word in collect(keys(worddict))        \n",
    "        t = isreducible(word, worddict)\n",
    "        if t != [] && t!= [false]\n",
    "            push!(res, word)  \n",
    "        end\n",
    "    end\n",
    "    return res\n",
    "end"
   ]
  },
  {
   "cell_type": "code",
   "execution_count": 6,
   "metadata": {},
   "outputs": [
    {
     "data": {
      "text/plain": [
       "printtrail (generic function with 1 method)"
      ]
     },
     "execution_count": 6,
     "metadata": {},
     "output_type": "execute_result"
    }
   ],
   "source": [
    "\"\"\"\n",
    "    printtrail(word, worddict)\n",
    "\n",
    "Prints the sequence of words that reduces this word to the empty string.\n",
    "Chooses the first if there is more than one word in the array of reducible words.\n",
    "\"\"\"\n",
    "\n",
    "function printtrail(word, worddict)\n",
    "    \n",
    "    if length(word) == 0\n",
    "        return\n",
    "    end\n",
    "    \n",
    "    print(word, \" \")\n",
    "    t = isreducible(word, worddict)\n",
    "    printtrail(t[1], worddict)\n",
    "end"
   ]
  },
  {
   "cell_type": "code",
   "execution_count": 7,
   "metadata": {},
   "outputs": [
    {
     "data": {
      "text/plain": [
       "printlongestwords (generic function with 2 methods)"
      ]
     },
     "execution_count": 7,
     "metadata": {},
     "output_type": "execute_result"
    }
   ],
   "source": [
    "\"\"\"\n",
    "    printlongestwords(worddict, n = 5)\n",
    "\n",
    "Finds the longest reducible words in the dictionary and prints them and their trails.\n",
    "\"\"\"\n",
    "\n",
    "function printlongestwords(worddict, n = 5)\n",
    "    \n",
    "    words = allreducible(worddict)\n",
    "    \n",
    "    t = []\n",
    "    for word in words\n",
    "        push!(t, (length(word), word))\n",
    "    end\n",
    "    t = reverse(sort!(t, by = x -> x[1]))\n",
    "    \n",
    "    for (x, word) in t[1:n]\n",
    "        printtrail(word, worddict)\n",
    "        println(\"\\n\")\n",
    "    end\n",
    "end"
   ]
  },
  {
   "cell_type": "code",
   "execution_count": 8,
   "metadata": {},
   "outputs": [
    {
     "name": "stdout",
     "output_type": "stream",
     "text": [
      "complecting completing competing compting comping coping oping ping pig pi i \n",
      "\n",
      "insolating isolating solating slating sating sting ting tin in i \n",
      "\n",
      "restarting restating estating stating sating sting ting tin in i \n",
      "\n",
      "twitchiest witchiest withiest withies withes wites wits its is i \n",
      "\n",
      "staunchest stanchest stanches stances stanes sanes anes ane ae a \n",
      "\n",
      "carrousels carousels carouses arouses arouse arose arse are ae a \n",
      "\n",
      "completing competing compting comping coping oping ping pig pi i \n",
      "\n",
      "stranglers strangers stranger strange strang stang tang tag ta a \n",
      "\n",
      "lacerated acerated cerated crated rated rate ate ae a \n",
      "\n",
      "splitting slitting sitting siting sting ting tin in i \n",
      "\n",
      "spiriting spirting spiting siting sting ting tin in i \n",
      "\n",
      "cocreates cocreate ocreate create crate rate ate ae a \n",
      "\n",
      "plaisters plasters lasters lasers lases lass ass as a \n",
      "\n",
      "stropping stopping topping toping oping ping pig pi i \n",
      "\n",
      "islanders slanders landers laders lades lads ads as a \n",
      "\n",
      "ministers minsters misters misers mises miss mis is i \n",
      "\n",
      "carrousel carousel carouse arouse arose arse are ae a \n",
      "\n",
      "outranges outrange outrang ourang orang rang ran an a \n",
      "\n",
      "outranged outrange outrang ourang orang rang ran an a \n",
      "\n",
      "refloated reflated related elated lated late ate ae a \n",
      "\n"
     ]
    }
   ],
   "source": [
    "printlongestwords(worddict, 20)"
   ]
  }
 ],
 "metadata": {
  "kernelspec": {
   "display_name": "Julia 1.1.0",
   "language": "julia",
   "name": "julia-1.1"
  },
  "language_info": {
   "file_extension": ".jl",
   "mimetype": "application/julia",
   "name": "julia",
   "version": "1.1.0"
  }
 },
 "nbformat": 4,
 "nbformat_minor": 2
}
