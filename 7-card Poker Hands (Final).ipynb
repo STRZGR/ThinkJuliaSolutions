{
 "cells": [
  {
   "cell_type": "markdown",
   "metadata": {},
   "source": [
    "##### Exercise 18-5\n",
    "Write a method called `deal!` that takes three parameters, a `Deck`, the number of hands and the number of cards per hand. It should create the appropriate number of `Hand` objects, deal the appropriate number of cards per hand, and return an array of `Hand`s.\n",
    "\n",
    "##### Exercise 18-6\n",
    "\n",
    "The following are the possible hands in poker, in increasing order of value and decreasing order of probability:\n",
    "\n",
    "__pair__\n",
    "    two cards with the same rank\n",
    "\n",
    "__two pair__\n",
    "    two pairs of cards with the same rank\n",
    "\n",
    "__three of a kind__\n",
    "    three cards with the same rank\n",
    "\n",
    "__straight__\n",
    "    five cards with ranks in sequence (aces can be high or low, so Ace-2-3-4-5 is a straight and so is 10-Jack-Queen-King-Ace, but Queen-King-Ace-2-3 is not.)\n",
    "\n",
    "__flush__\n",
    "    five cards with the same suit\n",
    "\n",
    "__full house__\n",
    "    three cards with one rank, two cards with another\n",
    "\n",
    "__four of a kind__\n",
    "    four cards with the same rank\n",
    "\n",
    "__straight flush__\n",
    "    five cards in sequence (as defined above) and with the same suit\n",
    "\n",
    "The goal of this exercise is to estimate the probability of drawing these various hands.\n",
    "\n",
    "1. Add methods named `haspair`, `hastwopair`, etc. that return true or false according to whether or not the hand meets the relevant criteria. Your code should work correctly for “hands” that contain any number of cards (although 5 and 7 are the most common sizes).\n",
    "\n",
    "1. Write a method named `classify` that figures out the highest-value classification for a hand and sets the label field accordingly. For example, a 7-card hand might contain a flush and a pair; it should be labeled “flush”.\n",
    "\n",
    "1. When you are convinced that your classification methods are working, the next step is to estimate the probabilities of the various hands. Write a function that shuffles a deck of cards, divides it into hands, classifies the hands, and counts the number of times various classifications appear.\n",
    "\n",
    "1. Print a table of the classifications and their probabilities. Run your program with larger and larger numbers of hands until the output values converge to a reasonable degree of accuracy. Compare your results to the values at https://en.wikipedia.org/wiki/Hand_rankings.\n",
    "\n",
    "*I didn't follow the instructions to the letter, but ultimately I came up with something that should deliver the same result.*"
   ]
  },
  {
   "cell_type": "markdown",
   "metadata": {},
   "source": [
    "*First, some code from the book on which we'll build our functions:*"
   ]
  },
  {
   "cell_type": "code",
   "execution_count": 1,
   "metadata": {},
   "outputs": [],
   "source": [
    "struct Card\n",
    "    suit :: Int64\n",
    "    rank :: Int64\n",
    "    function Card(suit::Int64, rank::Int64)\n",
    "        @assert(1 ≤ suit ≤ 4, \n",
    "            \"suit is not between 1 and 4\")\n",
    "        @assert(1 ≤ rank ≤ 13,\n",
    "            \"rank is not between 1 and 13\")\n",
    "        new(suit, rank)\n",
    "    end\n",
    "end"
   ]
  },
  {
   "cell_type": "code",
   "execution_count": 2,
   "metadata": {},
   "outputs": [],
   "source": [
    "const suit_names = [\"♣\", \"♦\", \"♥\", \"♠\"];\n",
    "const rank_names = [\"A\", \"2\", \"3\", \"4\", \"5\", \"6\", \"7\", \n",
    "                    \"8\", \"9\", \"10\", \"J\", \"Q\", \"K\"];"
   ]
  },
  {
   "cell_type": "code",
   "execution_count": 3,
   "metadata": {},
   "outputs": [],
   "source": [
    "function Base.show(io::IO, card::Card)\n",
    "    print(io, rank_names[card.rank], suit_names[card.suit])\n",
    "end"
   ]
  },
  {
   "cell_type": "code",
   "execution_count": 4,
   "metadata": {},
   "outputs": [
    {
     "data": {
      "text/plain": [
       "< (generic function with 75 methods)"
      ]
     },
     "execution_count": 4,
     "metadata": {},
     "output_type": "execute_result"
    }
   ],
   "source": [
    "import Base.<\n",
    "\n",
    "function <(c1::Card, c2::Card)\n",
    "    (c1.suit, c1.rank) < (c2.suit, c2.rank)\n",
    "end"
   ]
  },
  {
   "cell_type": "code",
   "execution_count": 5,
   "metadata": {},
   "outputs": [],
   "source": [
    "abstract type CardSet end"
   ]
  },
  {
   "cell_type": "code",
   "execution_count": 6,
   "metadata": {},
   "outputs": [
    {
     "data": {
      "text/plain": [
       "Deck"
      ]
     },
     "execution_count": 6,
     "metadata": {},
     "output_type": "execute_result"
    }
   ],
   "source": [
    "struct Deck <: CardSet\n",
    "    cards :: Array{Card, 1}\n",
    "end\n",
    "\n",
    "function Deck()\n",
    "    deck = Deck(Card[])\n",
    "    for suit in 1:4\n",
    "        for rank in 1:13\n",
    "            push!(deck.cards, Card(suit, rank))\n",
    "        end\n",
    "    end\n",
    "    deck\n",
    "end"
   ]
  },
  {
   "cell_type": "code",
   "execution_count": 7,
   "metadata": {},
   "outputs": [],
   "source": [
    "function Base.show(io::IO, deck::Deck)\n",
    "    for card in deck.cards\n",
    "        print(io, card, \" \")\n",
    "    end\n",
    "    println()\n",
    "end"
   ]
  },
  {
   "cell_type": "code",
   "execution_count": 8,
   "metadata": {},
   "outputs": [],
   "source": [
    "function Base.pop!(deck::Deck)\n",
    "    pop!(deck.cards)\n",
    "end"
   ]
  },
  {
   "cell_type": "code",
   "execution_count": 9,
   "metadata": {},
   "outputs": [],
   "source": [
    "function Base.push!(deck::Deck, card::Card)\n",
    "    push!(deck.cards, card)\n",
    "    deck\n",
    "end"
   ]
  },
  {
   "cell_type": "code",
   "execution_count": 10,
   "metadata": {},
   "outputs": [],
   "source": [
    "using Random\n",
    "\n",
    "function Random.shuffle!(deck::Deck)\n",
    "    shuffle!(deck.cards)\n",
    "    deck\n",
    "end"
   ]
  },
  {
   "cell_type": "code",
   "execution_count": 11,
   "metadata": {},
   "outputs": [
    {
     "data": {
      "text/plain": [
       "isless (generic function with 75 methods)"
      ]
     },
     "execution_count": 11,
     "metadata": {},
     "output_type": "execute_result"
    }
   ],
   "source": [
    "import Base.isless\n",
    "\n",
    "function isless(c1::Card, c2::Card)\n",
    "    isless((c1.suit, c1.rank), (c2.suit, c2.rank))\n",
    "end"
   ]
  },
  {
   "cell_type": "code",
   "execution_count": 12,
   "metadata": {},
   "outputs": [
    {
     "data": {
      "text/plain": [
       "sort! (generic function with 13 methods)"
      ]
     },
     "execution_count": 12,
     "metadata": {},
     "output_type": "execute_result"
    }
   ],
   "source": [
    "import Base.sort!\n",
    "\n",
    "function sort!(deck::Deck)\n",
    "    sort!(deck.cards)\n",
    "    deck\n",
    "end\n"
   ]
  },
  {
   "cell_type": "code",
   "execution_count": 13,
   "metadata": {},
   "outputs": [
    {
     "data": {
      "text/plain": [
       "Hand"
      ]
     },
     "execution_count": 13,
     "metadata": {},
     "output_type": "execute_result"
    }
   ],
   "source": [
    "struct Hand <: CardSet\n",
    "    cards :: Array{Card, 1}\n",
    "    label :: String\n",
    "end\n",
    "\n",
    "function Hand(label::String = \"\")\n",
    "    Hand(Card[], label)\n",
    "end"
   ]
  },
  {
   "cell_type": "code",
   "execution_count": 14,
   "metadata": {},
   "outputs": [
    {
     "data": {
      "text/plain": [
       "Hand(Card[], \"new hand\")"
      ]
     },
     "execution_count": 14,
     "metadata": {},
     "output_type": "execute_result"
    }
   ],
   "source": [
    "hand = Hand(\"new hand\")"
   ]
  },
  {
   "cell_type": "code",
   "execution_count": 15,
   "metadata": {},
   "outputs": [],
   "source": [
    "function Base.show(io::IO, cs::CardSet)\n",
    "    for card in cs.cards\n",
    "        print(io, card, \" \")\n",
    "    end\n",
    "end\n",
    "\n",
    "function Base.pop!(cs::CardSet)\n",
    "    pop!(cs.cards)\n",
    "end\n",
    "\n",
    "function Base.push!(cs::CardSet, card::Card)\n",
    "    push!(cs.cards, card)\n",
    "    nothing\n",
    "end"
   ]
  },
  {
   "cell_type": "code",
   "execution_count": 16,
   "metadata": {},
   "outputs": [
    {
     "data": {
      "text/plain": [
       "move! (generic function with 1 method)"
      ]
     },
     "execution_count": 16,
     "metadata": {},
     "output_type": "execute_result"
    }
   ],
   "source": [
    "function move!(cs1::CardSet, cs2::CardSet, n::Int)\n",
    "    @assert 1 ≤ n ≤ length(cs1.cards)\n",
    "    for i in 1:n\n",
    "        card = pop!(cs1)\n",
    "        push!(cs2, card)\n",
    "    end\n",
    "    nothing\n",
    "end"
   ]
  },
  {
   "cell_type": "code",
   "execution_count": 17,
   "metadata": {},
   "outputs": [],
   "source": [
    "function Base.sort!(hand::Hand)\n",
    "    sort!(hand.cards)\n",
    "end"
   ]
  },
  {
   "cell_type": "markdown",
   "metadata": {},
   "source": [
    "*My solution to __ex. 18.5__:*"
   ]
  },
  {
   "cell_type": "code",
   "execution_count": 18,
   "metadata": {},
   "outputs": [
    {
     "data": {
      "text/plain": [
       "deal! (generic function with 1 method)"
      ]
     },
     "execution_count": 18,
     "metadata": {},
     "output_type": "execute_result"
    }
   ],
   "source": [
    "\"\"\"\n",
    "    deal!(deck :: Deck, numberhands :: Int64, numbercards :: Int64)\n",
    "\n",
    "Shuffles and divides a deck into a specified number of hands, \n",
    "each with a specified number of cards.\n",
    "\"\"\"\n",
    "\n",
    "function deal!(deck :: Deck, numberhands :: Int64, numbercards :: Int64)\n",
    "    \n",
    "    @assert((numberhands * numbercards) ≤ length(deck.cards), \n",
    "        \"not enough cards for this many hands\")\n",
    "    \n",
    "    shuffled = Random.shuffle!(deck)\n",
    "    \n",
    "    allhands = []\n",
    "    for i in 1:numberhands\n",
    "        currentdeck = []\n",
    "        for j in 1:numbercards\n",
    "            \n",
    "            push!(currentdeck, pop!(shuffled))\n",
    "            \n",
    "        end\n",
    "        push!(allhands, currentdeck)\n",
    "    end\n",
    "    allhands\n",
    "end"
   ]
  },
  {
   "cell_type": "code",
   "execution_count": 19,
   "metadata": {},
   "outputs": [
    {
     "data": {
      "text/plain": [
       "10-element Array{Any,1}:\n",
       " Any[9♦, 3♥, 9♣, 6♠, 9♥]  \n",
       " Any[7♣, 8♦, 6♥, 3♠, 4♠]  \n",
       " Any[K♠, 7♦, 7♠, K♣, 6♣]  \n",
       " Any[K♥, 3♦, 3♣, J♠, Q♠]  \n",
       " Any[2♥, J♦, A♦, J♥, K♦]  \n",
       " Any[9♠, 10♣, J♣, 6♦, 10♥]\n",
       " Any[Q♦, 5♣, 7♥, 2♦, A♥]  \n",
       " Any[5♥, 2♠, 4♣, Q♥, 8♣]  \n",
       " Any[A♠, 5♠, 4♥, Q♣, 5♦]  \n",
       " Any[8♥, 4♦, 8♠, A♣, 10♠] "
      ]
     },
     "execution_count": 19,
     "metadata": {},
     "output_type": "execute_result"
    }
   ],
   "source": [
    "newdeck = Deck()\n",
    "\n",
    "deal!(newdeck, 10, 5)"
   ]
  },
  {
   "cell_type": "code",
   "execution_count": 20,
   "metadata": {},
   "outputs": [
    {
     "data": {
      "text/plain": [
       "findmultiples (generic function with 1 method)"
      ]
     },
     "execution_count": 20,
     "metadata": {},
     "output_type": "execute_result"
    }
   ],
   "source": [
    "\"\"\"\n",
    "    findmultiples(hand)\n",
    "\n",
    "Tabulates the occurrence of cards with the same rank.\n",
    "\"\"\"\n",
    "\n",
    "function findmultiples(hand)\n",
    "    d, d2 = Dict(), Dict(1 => 0, 2 => 0, 3 => 0, 4 => 0)\n",
    "\n",
    "    for h in hand\n",
    "        d[h.rank] = 1 + get(d, h.rank, 0)\n",
    "    end\n",
    "\n",
    "    for n in values(d)\n",
    "        d2[n] = 1 + get(d2, n, 0)\n",
    "    end\n",
    "\n",
    "    d2\n",
    "end"
   ]
  },
  {
   "cell_type": "code",
   "execution_count": 21,
   "metadata": {},
   "outputs": [
    {
     "data": {
      "text/plain": [
       "findstreak (generic function with 1 method)"
      ]
     },
     "execution_count": 21,
     "metadata": {},
     "output_type": "execute_result"
    }
   ],
   "source": [
    "\"\"\"\n",
    "    getranks(hand)\n",
    "\n",
    "Creates an array with the ranks of the cards in a hand.\n",
    "\n",
    "See also: [`findstreak`](@ref)\n",
    "\"\"\"\n",
    "\n",
    "function getranks(hand)\n",
    "    ranks = []\n",
    "    for h in hand\n",
    "        push!(ranks, h.rank)\n",
    "    end\n",
    "    ranks = sort(ranks)\n",
    "end\n",
    "\n",
    "\"\"\"\n",
    "    findstreak(hand)\n",
    "\n",
    "Finds runs of cards with increasing ranks and returns the\n",
    "maximum run.\n",
    "\n",
    "See also: [`getranks`](@ref)\n",
    "\"\"\"\n",
    "\n",
    "function findstreak(hand)\n",
    "    ranks = getranks(hand)\n",
    "    streak = 1\n",
    "    maxstreak = 1\n",
    "    for i in 1:(length(ranks) - 1)\n",
    "        if (ranks[i] + 1) == ranks[i + 1] \n",
    "            streak += 1\n",
    "        elseif (ranks[i]) == ranks[i + 1]\n",
    "            streak += 0\n",
    "        else\n",
    "            maxstreak = maximum((streak, maxstreak))\n",
    "            streak = 1\n",
    "        end\n",
    "    end\n",
    "    maxstreak = maximum((streak, maxstreak))\n",
    "    maxstreak\n",
    "end"
   ]
  },
  {
   "cell_type": "code",
   "execution_count": 22,
   "metadata": {},
   "outputs": [
    {
     "data": {
      "text/plain": [
       "findstraight (generic function with 1 method)"
      ]
     },
     "execution_count": 22,
     "metadata": {},
     "output_type": "execute_result"
    }
   ],
   "source": [
    "\"\"\"\n",
    "    findstraight(hand)\n",
    "\n",
    "Finds all varieties of straights in a hand.\n",
    "\"\"\"\n",
    "\n",
    "function findstraight(hand)\n",
    "    streak = findstreak(hand)\n",
    "    \n",
    "    ranks = getranks(hand)\n",
    "    \n",
    "    if streak >= 5\n",
    "        return true\n",
    "    # find straights of 10, J, Q, K, A\n",
    "    elseif (1, 10, 11, 12, 13) ⊆ ranks\n",
    "        return true\n",
    "    else\n",
    "        return false\n",
    "    end\n",
    "end"
   ]
  },
  {
   "cell_type": "code",
   "execution_count": 23,
   "metadata": {},
   "outputs": [
    {
     "data": {
      "text/plain": [
       "findflush (generic function with 1 method)"
      ]
     },
     "execution_count": 23,
     "metadata": {},
     "output_type": "execute_result"
    }
   ],
   "source": [
    "\"\"\"\n",
    "    findflush(hand)\n",
    "\n",
    "Finds flushes in a hand.\n",
    "\"\"\"\n",
    "\n",
    "function findflush(hand)\n",
    " \n",
    "    d = Dict(1 => 0, 2 => 0, 3 => 0, 4 => 0)\n",
    "    \n",
    "    for h in hand\n",
    "        d[h.suit] = 1 + get(d, h.suit, 0)\n",
    "    end\n",
    "    \n",
    "    if maximum(values(d)) >= 5\n",
    "        return true\n",
    "    end\n",
    "    false\n",
    "end"
   ]
  },
  {
   "cell_type": "code",
   "execution_count": 24,
   "metadata": {},
   "outputs": [
    {
     "data": {
      "text/plain": [
       "findstraightflush (generic function with 1 method)"
      ]
     },
     "execution_count": 24,
     "metadata": {},
     "output_type": "execute_result"
    }
   ],
   "source": [
    "\"\"\"\n",
    "    findstraightflush(hand)\n",
    "\n",
    "Finds straight flushs in a hand.\n",
    "\"\"\"\n",
    "\n",
    "# N.B. In 5-card poker, a hand that is 5-card straight and\n",
    "# a 5-card flush would automatically be a straight flush.\n",
    "# However, this is not necessarily the case in 7-card poker.\n",
    "# This function will find straightflushes in both 5- and 7-card\n",
    "# games.\n",
    "\n",
    "function findstraightflush(hand)\n",
    "    \n",
    "    hand = sort(hand)\n",
    "    straightflushstreak = 1\n",
    "    maxstreak = 1\n",
    "    for i in 1:(length(hand) - 1)\n",
    "        if hand[i].suit == hand[i + 1].suit &&\n",
    "            hand[i].rank + 1 == hand[i + 1].rank\n",
    "            straightflushstreak += 1\n",
    "        else\n",
    "            maxstreak = maximum((straightflushstreak, \n",
    "                                 maxstreak))\n",
    "            straightflushstreak = 1\n",
    "        end\n",
    "    end\n",
    "    maxstreak = maximum((straightflushstreak, maxstreak))\n",
    "    \n",
    "    if maxstreak >= 5\n",
    "        return true\n",
    "    end\n",
    "    false\n",
    "end\n"
   ]
  },
  {
   "cell_type": "code",
   "execution_count": 25,
   "metadata": {},
   "outputs": [
    {
     "data": {
      "text/plain": [
       "findroyalflush (generic function with 1 method)"
      ]
     },
     "execution_count": 25,
     "metadata": {},
     "output_type": "execute_result"
    }
   ],
   "source": [
    "\"\"\"\n",
    "    findroyalflush(hand)\n",
    "\n",
    "Finds royalflush (run in one suit of 10, J, Q, K, A) in a hand.\n",
    "\"\"\"\n",
    "\n",
    "function findroyalflush(hand)\n",
    "    hand = sort(hand)\n",
    "\n",
    "    samesuit = [hand[1]]\n",
    "    for h in 2:length(hand)\n",
    "        if hand[h].suit == hand[h - 1].suit\n",
    "            push!(samesuit, hand[h])\n",
    "        else\n",
    "            if length(samesuit) < 5\n",
    "                samesuit = [hand[h]]\n",
    "            end\n",
    "        end\n",
    "    end\n",
    "    \n",
    "    if length(samesuit) >= 5\n",
    "        samesuitranks = []\n",
    "\n",
    "        for s in samesuit\n",
    "            push!(samesuitranks, s.rank)\n",
    "        end\n",
    "\n",
    "        if (1, 10, 11, 12, 13) ⊆ samesuitranks\n",
    "            return true\n",
    "        end\n",
    "    end\n",
    "    false\n",
    "end"
   ]
  },
  {
   "cell_type": "code",
   "execution_count": 26,
   "metadata": {},
   "outputs": [
    {
     "data": {
      "text/plain": [
       "classify (generic function with 1 method)"
      ]
     },
     "execution_count": 26,
     "metadata": {},
     "output_type": "execute_result"
    }
   ],
   "source": [
    "\"\"\"\n",
    "    classify(hand)\n",
    "\n",
    "Tabulates the occurrences of various hands in poker.\n",
    "\"rf\" = Royal Flush; \"sf\" = Straight Flush; \"fk\" = \"Four of a Kind\";\n",
    "\"fh\" = Full House; \"fl\" = Flush; \"st\" = Straight; \n",
    "\"tk\" = Three of a Kind; \"tp\" = Two Pairs; \"pr\" = Pair; \"np\" = No Pair.\n",
    "\"\"\"\n",
    "\n",
    "probsofhands = Dict(\"rf\" => 0, \"sf\" => 0, \"fk\" => 0, \"fh\" => 0, \"fl\" => 0,\n",
    "                    \"st\" => 0, \"tk\" => 0, \"tp\" => 0, \"pr\" => 0, \"np\" => 0);\n",
    "\n",
    "\n",
    "\n",
    "function classify(hand)\n",
    "    \n",
    "    mults = findmultiples(hand)\n",
    "    \n",
    "    if findroyalflush(hand)\n",
    "        probsofhands[\"rf\"] = 1 + get(probsofhands, \"rf\", 0)\n",
    "    elseif findstraightflush(hand)\n",
    "        probsofhands[\"sf\"] = 1 + get(probsofhands, \"sf\", 0)\n",
    "    elseif mults[4] == 1\n",
    "        probsofhands[\"fk\"] = 1 + get(probsofhands, \"fk\", 0)\n",
    "    elseif mults[3] == 1 && mults[2] == 1\n",
    "        probsofhands[\"fh\"] = 1 + get(probsofhands, \"fh\", 0)\n",
    "    elseif findflush(hand)\n",
    "        probsofhands[\"fl\"] = 1 + get(probsofhands, \"fl\", 0)\n",
    "    elseif findstraight(hand)\n",
    "        probsofhands[\"st\"] = 1 + get(probsofhands, \"st\", 0)\n",
    "    elseif mults[3] == 1 \n",
    "        probsofhands[\"tk\"] = 1 + get(probsofhands, \"tk\", 0)\n",
    "    elseif mults[2] == 2\n",
    "        probsofhands[\"tp\"] = 1 + get(probsofhands, \"tp\", 0)\n",
    "    elseif mults[2] == 1\n",
    "        probsofhands[\"pr\"] = 1 + get(probsofhands, \"pr\", 0)\n",
    "    else\n",
    "        probsofhands[\"np\"] = 1 + get(probsofhands, \"np\", 0)\n",
    "    end\n",
    "probsofhands\n",
    "end"
   ]
  },
  {
   "cell_type": "code",
   "execution_count": 27,
   "metadata": {},
   "outputs": [
    {
     "data": {
      "text/plain": [
       "0"
      ]
     },
     "execution_count": 27,
     "metadata": {},
     "output_type": "execute_result"
    }
   ],
   "source": [
    "probsofhands = Dict(\"rf\" => 0, \"sf\" => 0, \"fk\" => 0, \"fh\" => 0, \"fl\" => 0,\n",
    "                    \"st\" => 0, \"tk\" => 0, \"tp\" => 0, \"pr\" => 0, \"np\" => 0);\n",
    "\n",
    "# We may wish to break larger experiments (i.e., > 10,000,000 hands)\n",
    "# into stages.  x will indicate which stage we're on\n",
    "\n",
    "x = 0"
   ]
  },
  {
   "cell_type": "code",
   "execution_count": 28,
   "metadata": {},
   "outputs": [
    {
     "name": "stdout",
     "output_type": "stream",
     "text": [
      "After 3000000 total hands:\n"
     ]
    },
    {
     "data": {
      "text/plain": [
       "Dict{String,Int64} with 10 entries:\n",
       "  \"st\" => 11829\n",
       "  \"sf\" => 35\n",
       "  \"fh\" => 4382\n",
       "  \"fl\" => 5887\n",
       "  \"fk\" => 709\n",
       "  \"tp\" => 142606\n",
       "  \"np\" => 1502791\n",
       "  \"pr\" => 1268675\n",
       "  \"rf\" => 3\n",
       "  \"tk\" => 63083"
      ]
     },
     "execution_count": 28,
     "metadata": {},
     "output_type": "execute_result"
    }
   ],
   "source": [
    "\n",
    "handsperdeck = 10\n",
    "totalhands = 3000000\n",
    "cardsperhand = 5\n",
    "\n",
    "for i in 1:(totalhands/handsperdeck)\n",
    "    newdeck = Deck()\n",
    "\n",
    "    mm = deal!(newdeck, handsperdeck, cardsperhand)\n",
    "\n",
    "\n",
    "    for n in mm\n",
    "        classify(n)\n",
    "    end\n",
    "end\n",
    "\n",
    "x += 1\n",
    "println(\"After \", x * totalhands, \" total hands:\")\n",
    "\n",
    "probsofhands"
   ]
  },
  {
   "cell_type": "code",
   "execution_count": 29,
   "metadata": {},
   "outputs": [
    {
     "name": "stdout",
     "output_type": "stream",
     "text": [
      "rf 0.0001%\n",
      "sf 0.00117%\n",
      "fk 0.02363%\n",
      "fh 0.14607%\n",
      "fl 0.19623%\n",
      "st 0.3943%\n",
      "tk 2.10277%\n",
      "tp 4.75353%\n",
      "pr 42.28917%\n",
      "np 50.09303%\n"
     ]
    }
   ],
   "source": [
    "for (t, s) in sort(collect(zip(values(probsofhands), keys(probsofhands))))\n",
    "    println(s, \" \", round((t/sum(values(probsofhands))) * 100, digits = 5), \"%\")\n",
    "end"
   ]
  },
  {
   "cell_type": "markdown",
   "metadata": {},
   "source": [
    "*Ran experiments on 3,000,000 5-card hands (took around a minute).  The numbers are very close to the theoretical percentages.*\n",
    "\n",
    "\n",
    "rf 0.00017%\n",
    "\n",
    "sf 0.0014%\n",
    "\n",
    "fk 0.02313%\n",
    "\n",
    "fh 0.14777%\n",
    "\n",
    "fl 0.19257%\n",
    "\n",
    "st 0.38953%\n",
    "\n",
    "tk 2.11503%\n",
    "\n",
    "tp 4.73043%\n",
    "\n",
    "pr 42.24567%\n",
    "\n",
    "np 50.1543%"
   ]
  },
  {
   "cell_type": "markdown",
   "metadata": {},
   "source": [
    "*Ran experiments on 130,000,000 7-card hands (took considerably longer than a minute).  The numbers are very close to the theoretical percentages.*\n",
    "\n",
    "rf 0.00475%\n",
    "\n",
    "sf 0.02774%\n",
    "\n",
    "fk 0.16745%\n",
    "\n",
    "fh 2.46055%\n",
    "\n",
    "fl 3.02523%\n",
    "\n",
    "st 3.85077%\n",
    "\n",
    "tk 4.9198%\n",
    "\n",
    "np 19.85817%\n",
    "\n",
    "tp 21.64887%\n",
    "\n",
    "pr 44.03668%\n"
   ]
  }
 ],
 "metadata": {
  "@webio": {
   "lastCommId": null,
   "lastKernelId": null
  },
  "kernelspec": {
   "display_name": "Julia 1.1.0",
   "language": "julia",
   "name": "julia-1.1"
  },
  "language_info": {
   "file_extension": ".jl",
   "mimetype": "application/julia",
   "name": "julia",
   "version": "1.1.0"
  }
 },
 "nbformat": 4,
 "nbformat_minor": 2
}
