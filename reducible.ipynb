{
 "cells": [
  {
   "cell_type": "markdown",
   "metadata": {},
   "source": [
    "### Tuples\n",
    "\n",
    "#### Tuples are Immutable\n",
    "\n",
    "Tuples can be any type, and are indexed by integers.  They are also immutable, and each element can have its own type.  \n",
    "\n",
    "Syntactically, they need to be separated by commas'"
   ]
  },
  {
   "cell_type": "code",
   "execution_count": null,
   "metadata": {},
   "outputs": [],
   "source": [
    "t = 'a', 'b', 'c', 'd', 'e'"
   ]
  },
  {
   "cell_type": "markdown",
   "metadata": {},
   "source": [
    "It is common practice to enclose tuples in parentheses:"
   ]
  },
  {
   "cell_type": "code",
   "execution_count": null,
   "metadata": {},
   "outputs": [],
   "source": [
    "t = ('a', 'b', 'c', 'd', 'e')"
   ]
  },
  {
   "cell_type": "markdown",
   "metadata": {},
   "source": [
    "If we want a tuple with a single element, we need to include a final comma:"
   ]
  },
  {
   "cell_type": "code",
   "execution_count": null,
   "metadata": {},
   "outputs": [],
   "source": [
    "t1 = ('a',)"
   ]
  },
  {
   "cell_type": "code",
   "execution_count": null,
   "metadata": {},
   "outputs": [],
   "source": [
    "typeof(t1)"
   ]
  },
  {
   "cell_type": "code",
   "execution_count": null,
   "metadata": {},
   "outputs": [],
   "source": [
    "t2 = ('a')"
   ]
  },
  {
   "cell_type": "code",
   "execution_count": null,
   "metadata": {},
   "outputs": [],
   "source": [
    "typeof(t2)"
   ]
  },
  {
   "cell_type": "markdown",
   "metadata": {},
   "source": [
    "We can also create tuples using `tuple()`:"
   ]
  },
  {
   "cell_type": "code",
   "execution_count": null,
   "metadata": {},
   "outputs": [],
   "source": [
    "t3 = tuple(1, 'a', pi)"
   ]
  },
  {
   "cell_type": "markdown",
   "metadata": {},
   "source": [
    "Indexing works with tuples:"
   ]
  },
  {
   "cell_type": "code",
   "execution_count": null,
   "metadata": {},
   "outputs": [],
   "source": [
    "t = ('a', 'b', 'c', 'd', 'e');\n",
    "t[1]"
   ]
  },
  {
   "cell_type": "code",
   "execution_count": null,
   "metadata": {},
   "outputs": [],
   "source": [
    "t[2:4]"
   ]
  },
  {
   "cell_type": "markdown",
   "metadata": {},
   "source": [
    "Remember that tuples are immutable and can't be changed:"
   ]
  },
  {
   "cell_type": "code",
   "execution_count": null,
   "metadata": {},
   "outputs": [],
   "source": [
    "t[1] = 'A'"
   ]
  },
  {
   "cell_type": "markdown",
   "metadata": {},
   "source": [
    "Relational operators work with tuples, as well.  Julia looks for the first non-equal pair and compares them.  In the example below, the first two numbers are the same, so only the third values are compared."
   ]
  },
  {
   "cell_type": "code",
   "execution_count": null,
   "metadata": {},
   "outputs": [],
   "source": [
    "(0, 1, 2) < (0, 1, 3)"
   ]
  },
  {
   "cell_type": "markdown",
   "metadata": {},
   "source": [
    "Once a non-equal pair is found, Julia doesn't bother comparing the other pairs, even if there are massive differences in size.  Below, the last pair of values is ignored."
   ]
  },
  {
   "cell_type": "code",
   "execution_count": null,
   "metadata": {},
   "outputs": [],
   "source": [
    "(0, 1, 2, 3000000000) < (0, 1, 3, 4)"
   ]
  },
  {
   "cell_type": "markdown",
   "metadata": {},
   "source": [
    "#### Tuple Assignment\n",
    "\n",
    "Sometimes you may need to swap the value of two variables.  You could use a temporary variable like this:"
   ]
  },
  {
   "cell_type": "code",
   "execution_count": null,
   "metadata": {},
   "outputs": [],
   "source": [
    "a = 3\n",
    "b = 4\n",
    "temp = a\n",
    "a = b\n",
    "b = temp"
   ]
  },
  {
   "cell_type": "markdown",
   "metadata": {},
   "source": [
    "This is more elegant:"
   ]
  },
  {
   "cell_type": "code",
   "execution_count": null,
   "metadata": {},
   "outputs": [],
   "source": [
    "a = 3\n",
    "b = 4\n",
    "a, b = b, a"
   ]
  },
  {
   "cell_type": "markdown",
   "metadata": {},
   "source": [
    "The number of variables on the left has to be fewer than the number of values on the right:"
   ]
  },
  {
   "cell_type": "code",
   "execution_count": null,
   "metadata": {},
   "outputs": [],
   "source": [
    "(a, b) = (1, 2, 3)"
   ]
  },
  {
   "cell_type": "code",
   "execution_count": null,
   "metadata": {},
   "outputs": [],
   "source": [
    "(a, b)"
   ]
  },
  {
   "cell_type": "code",
   "execution_count": null,
   "metadata": {},
   "outputs": [],
   "source": [
    "(a, b, c) = (1, 2)"
   ]
  },
  {
   "cell_type": "markdown",
   "metadata": {},
   "source": [
    "More generally, the right side can by any kind of sequence (string, array or tuple).  E.g., to split an email address, you could write:"
   ]
  },
  {
   "cell_type": "code",
   "execution_count": null,
   "metadata": {},
   "outputs": [],
   "source": [
    "addr = \"julius.caesar@rome\"\n",
    "uname, domain = split(addr, '@')"
   ]
  },
  {
   "cell_type": "code",
   "execution_count": null,
   "metadata": {},
   "outputs": [],
   "source": [
    "domain"
   ]
  },
  {
   "cell_type": "markdown",
   "metadata": {},
   "source": [
    "#### Tuples as Return Values\n",
    "\n",
    "Technically, a function can only return one value, but if the value is a tuple, it's the same as returning multiple values.  E.g., if we want to divide two integers and compute the quotient and reaminder, it's inefficient to compute `x ÷ y` and then `x % y`.  It's better to compute both at the same time.\n",
    "\n",
    "`divrem` takes two arguments and returns the quote and remainder, which can be stored as a tuple:"
   ]
  },
  {
   "cell_type": "code",
   "execution_count": null,
   "metadata": {},
   "outputs": [],
   "source": [
    "t = divrem(7, 3)"
   ]
  },
  {
   "cell_type": "markdown",
   "metadata": {},
   "source": [
    "We can also use tuple assignment to store the elements separately:"
   ]
  },
  {
   "cell_type": "code",
   "execution_count": null,
   "metadata": {},
   "outputs": [],
   "source": [
    "q, r = divrem(7, 3);\n",
    "@show q r;"
   ]
  },
  {
   "cell_type": "markdown",
   "metadata": {},
   "source": [
    "Here is an example of a function that returns a tuple:"
   ]
  },
  {
   "cell_type": "code",
   "execution_count": null,
   "metadata": {},
   "outputs": [],
   "source": [
    "function minmax(t)\n",
    "    minimum(t), maximum(t)\n",
    "end"
   ]
  },
  {
   "cell_type": "markdown",
   "metadata": {},
   "source": [
    "However, there is a built-in function, `extrema`, which does this more efficiently.\n",
    "\n",
    "#### Variable-length Argument Tuples\n",
    "\n",
    "Functions can take a variable number of arguments.  A parameter that ends with `...` *gathers* arguments into a tuple.  E.g., `printall` takes any number of arguments and prints them:"
   ]
  },
  {
   "cell_type": "code",
   "execution_count": null,
   "metadata": {},
   "outputs": [],
   "source": [
    "function printall(args...)\n",
    "    println(args)\n",
    "end"
   ]
  },
  {
   "cell_type": "code",
   "execution_count": null,
   "metadata": {},
   "outputs": [],
   "source": [
    "printall(1, 2.0, '3')"
   ]
  },
  {
   "cell_type": "markdown",
   "metadata": {},
   "source": [
    "Together with gather, we have *scatter*. If you have a sequence of values and you want to pass it to a function as mutliple arguments, you can use the `...` operator.  E.g., `divrem` takes exactly two arguments, so it won't work with a tuple:"
   ]
  },
  {
   "cell_type": "code",
   "execution_count": null,
   "metadata": {},
   "outputs": [],
   "source": [
    "t = (7, 3);\n",
    "divrem(t)"
   ]
  },
  {
   "cell_type": "markdown",
   "metadata": {},
   "source": [
    "But it will work if we scatter the arguments with `...`:"
   ]
  },
  {
   "cell_type": "code",
   "execution_count": null,
   "metadata": {},
   "outputs": [],
   "source": [
    "divrem(t...)"
   ]
  },
  {
   "cell_type": "markdown",
   "metadata": {},
   "source": [
    "Some arguments can take any number of arguments:"
   ]
  },
  {
   "cell_type": "code",
   "execution_count": null,
   "metadata": {},
   "outputs": [],
   "source": [
    "max(1, 2, 69)"
   ]
  },
  {
   "cell_type": "markdown",
   "metadata": {},
   "source": [
    "Some do not:"
   ]
  },
  {
   "cell_type": "code",
   "execution_count": null,
   "metadata": {},
   "outputs": [],
   "source": [
    "sum(1, 2, 69)"
   ]
  },
  {
   "cell_type": "markdown",
   "metadata": {},
   "source": [
    "##### Exercise 12-1\n",
    "Write a function called `sumall` that takes any number of arguments and returns their sum."
   ]
  },
  {
   "cell_type": "code",
   "execution_count": null,
   "metadata": {},
   "outputs": [],
   "source": [
    "function sumall(n...)\n",
    "    println(sum(n))\n",
    "end"
   ]
  },
  {
   "cell_type": "code",
   "execution_count": null,
   "metadata": {},
   "outputs": [],
   "source": [
    "sumall(1, 2, 69)"
   ]
  },
  {
   "cell_type": "markdown",
   "metadata": {},
   "source": [
    "In the Julia world, gather is often called \"slurp\" and scatter \"splat\".\n",
    "\n",
    "#### Arrays and Tuples\n",
    "\n",
    "`zip` takes two or more sequences and returns a collection of tuples where each tuple contains one element from each sequence.  E.g.:"
   ]
  },
  {
   "cell_type": "code",
   "execution_count": null,
   "metadata": {},
   "outputs": [],
   "source": [
    "s = \"abc\";\n",
    "t = [1, 2, 3];\n",
    "\n",
    "zip(s, t)"
   ]
  },
  {
   "cell_type": "markdown",
   "metadata": {},
   "source": [
    "`zip` is commonly used with `for` loops:"
   ]
  },
  {
   "cell_type": "code",
   "execution_count": null,
   "metadata": {},
   "outputs": [],
   "source": [
    "for pair in zip(s, t)\n",
    "    println(pair)\n",
    "end"
   ]
  },
  {
   "cell_type": "markdown",
   "metadata": {},
   "source": [
    "Although `zip` is technically an iterator, you can't use indices with it:"
   ]
  },
  {
   "cell_type": "code",
   "execution_count": null,
   "metadata": {},
   "outputs": [],
   "source": [
    "zip(s, t)[2]"
   ]
  },
  {
   "cell_type": "markdown",
   "metadata": {},
   "source": [
    "If we want to use array operators and functions, we need to convert the `zip` object into an array:"
   ]
  },
  {
   "cell_type": "code",
   "execution_count": null,
   "metadata": {},
   "outputs": [],
   "source": [
    "collect(zip(s, t))[2]"
   ]
  },
  {
   "cell_type": "markdown",
   "metadata": {},
   "source": [
    "With sequences of unequal length, the result will be the length of the shorter sequence:"
   ]
  },
  {
   "cell_type": "code",
   "execution_count": null,
   "metadata": {},
   "outputs": [],
   "source": [
    "collect(zip(\"Anne\", \"Elk\"))"
   ]
  },
  {
   "cell_type": "markdown",
   "metadata": {},
   "source": [
    "You can use tuple assignment in a `for` loop to traverse an array of tuples:"
   ]
  },
  {
   "cell_type": "code",
   "execution_count": null,
   "metadata": {},
   "outputs": [],
   "source": [
    "t = [('a', 1), ('b', 2), ('c', 3)];\n",
    "\n",
    "for (letter, number) in t\n",
    "    println(number, \" \", letter)\n",
    "end"
   ]
  },
  {
   "cell_type": "markdown",
   "metadata": {},
   "source": [
    "The parentheses around `(letter, number)` are compulsory:"
   ]
  },
  {
   "cell_type": "code",
   "execution_count": null,
   "metadata": {},
   "outputs": [],
   "source": [
    "for letter, number in t\n",
    "    println(number, \" \", letter)\n",
    "end"
   ]
  },
  {
   "cell_type": "markdown",
   "metadata": {},
   "source": [
    "If you combine `zip`, `for`, and tuple assignment, you get a useful idiom for traversing two (or more) sequences at the same time.  E.g. `hasmatch` takes two sequences, `t1` and `t2`, and returns `true` if there is an index `i` such that `t1[i] == t2[i]`:"
   ]
  },
  {
   "cell_type": "code",
   "execution_count": null,
   "metadata": {},
   "outputs": [],
   "source": [
    "function hasmatch(t1, t2)\n",
    "    for (x, y) in zip(t1, t2)\n",
    "        if x == y\n",
    "            return true\n",
    "        end\n",
    "    end\n",
    "    false\n",
    "end"
   ]
  },
  {
   "cell_type": "code",
   "execution_count": null,
   "metadata": {},
   "outputs": [],
   "source": [
    "t1 = \"aaa\"\n",
    "t2 = \"abc\"\n",
    "hasmatch(t1, t2)"
   ]
  },
  {
   "cell_type": "code",
   "execution_count": null,
   "metadata": {},
   "outputs": [],
   "source": [
    "t1 = \"zzz\"\n",
    "t2 = \"abc\"\n",
    "hasmatch(t1, t2)"
   ]
  },
  {
   "cell_type": "markdown",
   "metadata": {},
   "source": [
    "If you need to traverse the elements of a sequence and their indices, you can use the built-in function `enumerate`:"
   ]
  },
  {
   "cell_type": "code",
   "execution_count": null,
   "metadata": {},
   "outputs": [],
   "source": [
    "for (index, element) in enumerate(\"abc\")\n",
    "    println(index, \" \", element)\n",
    "end"
   ]
  },
  {
   "cell_type": "markdown",
   "metadata": {},
   "source": [
    "#### Dictionaries and Tuples\n",
    "\n",
    "Dictionaries can be used as iterators that iterate the key-value pairs.  You could use it in a `for` loop like this:"
   ]
  },
  {
   "cell_type": "code",
   "execution_count": null,
   "metadata": {},
   "outputs": [],
   "source": [
    "d = Dict('a' => 1, 'b' => 2, 'c' => 3);\n",
    "for (key, value) in d\n",
    "    println(key, \" \", value)\n",
    "end"
   ]
  },
  {
   "cell_type": "markdown",
   "metadata": {},
   "source": [
    "Going in the other direction, you can use an array of tuples to initialize a new dictionary:"
   ]
  },
  {
   "cell_type": "code",
   "execution_count": null,
   "metadata": {},
   "outputs": [],
   "source": [
    "t = [('a', 1), ('c', 3), ('b', 2)];\n",
    "d = Dict(t)"
   ]
  },
  {
   "cell_type": "markdown",
   "metadata": {},
   "source": [
    "A more concise way is to combine `Dict` with `zip`:\n"
   ]
  },
  {
   "cell_type": "code",
   "execution_count": null,
   "metadata": {},
   "outputs": [],
   "source": [
    "d = Dict(zip(\"abc\", 1:3))"
   ]
  },
  {
   "cell_type": "markdown",
   "metadata": {},
   "source": [
    "It is common to use tuples as keys in dictionaries. E.g., a telephone directory might map from last name, first name pairs to telephone numbers:"
   ]
  },
  {
   "cell_type": "code",
   "execution_count": null,
   "metadata": {},
   "outputs": [],
   "source": [
    "first, last = \"Julius\", \"Caesar\"\n",
    "number = 315315"
   ]
  },
  {
   "cell_type": "code",
   "execution_count": null,
   "metadata": {},
   "outputs": [],
   "source": [
    "directory = Dict()\n",
    "directory[last, first] = number;"
   ]
  },
  {
   "cell_type": "code",
   "execution_count": null,
   "metadata": {},
   "outputs": [],
   "source": [
    "directory[\"Caesar\", \"Julius\"]"
   ]
  },
  {
   "cell_type": "markdown",
   "metadata": {},
   "source": [
    "We could use tuple assignment to traverse this dictionary:"
   ]
  },
  {
   "cell_type": "code",
   "execution_count": null,
   "metadata": {},
   "outputs": [],
   "source": [
    "for ((last, first), number) in directory\n",
    "    println(first, \" \", last, \" \", number)\n",
    "end"
   ]
  },
  {
   "cell_type": "markdown",
   "metadata": {},
   "source": [
    "#### Sequences of Sequences\n",
    "\n",
    "Arrays are more common than tuples, mostly because they are mutable. But there are a few cases where you might prefer tuples:\n",
    "\n",
    "+ In some contexts, like a return statement, it is syntactically simpler to create a tuple than an array.\n",
    "\n",
    "+ If you are passing a sequence as an argument to a function, using tuples reduces the potential for unexpected behavior due to aliasing.\n",
    "\n",
    "+ For performance reasons. The compiler can specialize on the type.\n",
    "\n",
    "Because tuples are immutable, you can use `sort!` or `reverse!` on them.  But you can use `sort` and `reverse`."
   ]
  },
  {
   "cell_type": "markdown",
   "metadata": {},
   "source": [
    "#### Debugging\n",
    "\n",
    "#### Exercises\n",
    "##### Exercise 12-2\n",
    "Write a function called `mostfrequent` that takes a string and prints the letters in decreasing order of frequency. Find text samples from several different languages and see how letter frequency varies between languages. Compare your results with the tables at https://en.wikipedia.org/wiki/Letter_frequencies.\n",
    "\n",
    "*I originally wrote this function so that it would only accept alphabetic characters (i.e., a-z).  However, that creates a problem when analyzing foreign texts that use alphabets with diacritics.  Without these filter, punction and spaces end up being included, and as a result, in some languages the first or second most common character is the space character.  There must be a more concise way of fixing this, but I'm still a virtual Julia newbie, so I don't know what the fix could be....*\n",
    "\n",
    "*__EDIT:__ Went into MS Word's symbols to get as many lowercase roman diacritics as I could and added them to the function.  The result looked like \"abcdefghijklmnopqrstuvwxyzßàáâãäåæçèéêëìíîïðñòóôõöøùúûüýþÿāăąćĉċčďđēĕėęěĝğġģĥħĩīĭįıĳĵķĸĺļľŀłńņňŉŋōŏőœŕŗřśŝşšţťŧũūŭůűųŵŷźżžǎǐǒǔǖǘǚǜǟǡǣǥǧǩǫǭǰǵǷǹǻǽǿȁȃȅȇȉȋȍȏȑȓȕȗșțȟȥȧȩȫȭȯȱȳȴȵȶȼȿɀɇɉɋɍɏɑɖɗ\" and seemed rather inefficient (and not to mention incomplete, as I excluded a lot of symbols since they looked like they might have come from Cyrillic, but my methods were pretty arbitrary...).  Thankfully, I found `isletter()`, which does the same.*"
   ]
  },
  {
   "cell_type": "code",
   "execution_count": null,
   "metadata": {},
   "outputs": [],
   "source": [
    "d = Dict()\n",
    "\n",
    "function makefrequencydict(text)\n",
    "    for line in eachline(text)\n",
    "        for l in line\n",
    "            l = lowercase(l)\n",
    "            if isletter(l)\n",
    "                d[l] = get(d, l, 0) + 1\n",
    "            end\n",
    "        end\n",
    "    end\n",
    "    return d\n",
    "end"
   ]
  },
  {
   "cell_type": "code",
   "execution_count": null,
   "metadata": {},
   "outputs": [],
   "source": [
    "function getnumberentries(d)\n",
    "    total = 0\n",
    "    for i in values(d)\n",
    "        total += i\n",
    "    end\n",
    "    return total\n",
    "end"
   ]
  },
  {
   "cell_type": "markdown",
   "metadata": {},
   "source": [
    "*I am not crazy about this exercise.  It appears in Julia the only way to sort a dictionary based on its values is to create a new `zip` with the values followed by the keys, since it appears that only the first column can be sorted.  However, since we want to see the keys (i.e., the letters) first, we have to use tuple assignment to print everything out line by line.  It is possible to use only functions presented in this chapter to do this, but everything feels so inefficient you can't help but wonder that there's a more concise way out there that I don't yet know of...*\n",
    "\n",
    "*For what it's worth, I took a look at [the solutions page for \"Think Python\"](https://github.com/AllenDowney/ThinkPython2/blob/master/code/most_frequent.py \"most_frequent.py\"), and the author did pretty much what I outlined above.  However, I did it in far fewer lines of (fairly dense) code.*"
   ]
  },
  {
   "cell_type": "code",
   "execution_count": null,
   "metadata": {},
   "outputs": [],
   "source": [
    "function mostfrequent(text)  \n",
    "    d = makefrequencydict(text)\n",
    "    total = getnumberentries(d)\n",
    "    for (y, z) in reverse(sort(collect(zip(values(d), keys(d)))))\n",
    "        println(z, \": \", round((y/total) * 100, digits = 3))\n",
    "    end\n",
    "end"
   ]
  },
  {
   "cell_type": "code",
   "execution_count": null,
   "metadata": {},
   "outputs": [],
   "source": [
    "alice = open(\"C:\\\\Users\\\\MC\\\\Desktop\\\\ThinkJulia\\\\aliceEdited.txt\")"
   ]
  },
  {
   "cell_type": "code",
   "execution_count": null,
   "metadata": {},
   "outputs": [],
   "source": [
    "mostfrequent(alice)"
   ]
  },
  {
   "cell_type": "code",
   "execution_count": null,
   "metadata": {},
   "outputs": [],
   "source": [
    "danish = open(\"C:\\\\Users\\\\MC\\\\Desktop\\\\ThinkJulia\\\\danishText.txt\")"
   ]
  },
  {
   "cell_type": "code",
   "execution_count": null,
   "metadata": {},
   "outputs": [],
   "source": [
    "mostfrequent(danish)"
   ]
  },
  {
   "cell_type": "markdown",
   "metadata": {},
   "source": [
    "##### Exercise 12-3\n",
    "More anagrams!\n",
    "\n",
    "1. Write a program that reads a word list from a file (see Reading Word Lists) and prints all the sets of words that are anagrams.\n",
    "\n",
    "Here is an example of what the output might look like:"
   ]
  },
  {
   "cell_type": "markdown",
   "metadata": {},
   "source": [
    "```julia\n",
    "[\"deltas\", \"desalt\", \"lasted\", \"salted\", \"slated\", \"staled\"]\n",
    "[\"retainers\", \"ternaries\"]\n",
    "[\"generating\", \"greatening\"]\n",
    "[\"resmelts\", \"smelters\", \"termless\"]\n",
    "```"
   ]
  },
  {
   "cell_type": "markdown",
   "metadata": {},
   "source": [
    "> TIP\n",
    "> You might want to build a dictionary that maps from a collection of letters to an array of words that can be spelled with those letters. The question is, how can you represent the collection of letters in a way that can be used as a key?"
   ]
  },
  {
   "cell_type": "markdown",
   "metadata": {},
   "source": [
    "2. Modify the previous program so that it prints the longest array of anagrams first, followed by the second longest, and so on.\n",
    "\n",
    "3. In Scrabble a “bingo” is when you play all seven tiles in your rack, along with a letter on the board, to form an eight-letter word. What collection of 8 letters forms the most possible bingos?\n",
    "\n",
    "*This was very difficult for me to set up.  The biggest problem was that we had to append to the values of a dictionary in Julia, and that wasn't something that had really been covered so far in the book.  I had to cheat by peeking at [the code for \"Think Python\"](https://github.com/AllenDowney/ThinkPython2/blob/master/code/anagram_sets.py \"anagram_sets.py\"), but this was only of limited help, since the method for appending to dictionaries in Python and Julia is not quite the same - I'll deal with that more below...*\n",
    "\n",
    "*Anyhoo, the feeling I got while I was doing the exercise is that the author of the present book was blindly copying exercises from \"Think Python\" without verifying if they could be completed with the Julia functions that have hitherto been introduced.*"
   ]
  },
  {
   "cell_type": "code",
   "execution_count": null,
   "metadata": {},
   "outputs": [],
   "source": [
    "function signature(s)\n",
    "    return join(sort(collect(s)))\n",
    "end"
   ]
  },
  {
   "cell_type": "code",
   "execution_count": null,
   "metadata": {},
   "outputs": [],
   "source": [
    "signature(\"signature\")"
   ]
  },
  {
   "cell_type": "code",
   "execution_count": null,
   "metadata": {},
   "outputs": [],
   "source": [
    "fin = open(\"C:\\\\Users\\\\MC\\\\Desktop\\\\ThinkJulia\\\\words.txt\")"
   ]
  },
  {
   "cell_type": "markdown",
   "metadata": {},
   "source": [
    "*Here lay the crux of all my problems.  Up until now, we've never used arrays in the values of the dictionaries.  Since we may be adding to the values of these dictionary items later, the values have to be in square brackets `[]` both when we create the dictionary items and when we add to them!*\n",
    "\n",
    "*__Edit June.03.2019:__ Had problems with some words appearining in the list of anagrams twice.  Added `elseif word ∉ values(d[t])` and so far it appears to have fixed the problem.*"
   ]
  },
  {
   "cell_type": "code",
   "execution_count": null,
   "metadata": {},
   "outputs": [],
   "source": [
    "global d = Dict()\n",
    "\n",
    "function createbaseanagram(list)\n",
    "    for line in eachline(list)\n",
    "        word = lowercase(strip(line))\n",
    "        t = signature(word)\n",
    "\n",
    "        if t ∉ keys(d)\n",
    "            d[t] = [word] # `word` needs to be in [brackets]\n",
    "        # added June 3rd\n",
    "        elseif word ∉ values(d[t])\n",
    "            append!(d[t], [word]) # here too!\n",
    "        end\n",
    "    end\n",
    "    return d\n",
    "end"
   ]
  },
  {
   "cell_type": "code",
   "execution_count": null,
   "metadata": {},
   "outputs": [],
   "source": [
    "d = createbaseanagram(fin);"
   ]
  },
  {
   "cell_type": "code",
   "execution_count": null,
   "metadata": {},
   "outputs": [],
   "source": [
    "function print_anagram_sets(d)\n",
    "    for v in values(d)\n",
    "        if length(v) > 1\n",
    "            println(length(v), \" \", v)\n",
    "        end\n",
    "    end\n",
    "end"
   ]
  },
  {
   "cell_type": "code",
   "execution_count": null,
   "metadata": {},
   "outputs": [],
   "source": [
    "print_anagram_sets(d)"
   ]
  },
  {
   "cell_type": "markdown",
   "metadata": {},
   "source": [
    "*Here's the code for the second part of the exercise:*"
   ]
  },
  {
   "cell_type": "code",
   "execution_count": null,
   "metadata": {},
   "outputs": [],
   "source": [
    "function printanagramsetsinreverseorder(d)\n",
    "    t = []\n",
    "    \n",
    "    for v in values(d)\n",
    "        if length(v) > 1\n",
    "            push!(t, (length(v), v))\n",
    "        end\n",
    "    end\n",
    "    \n",
    "    t = reverse(sort(t))\n",
    "    for x in t\n",
    "        println(x)\n",
    "    end\n",
    "end"
   ]
  },
  {
   "cell_type": "code",
   "execution_count": null,
   "metadata": {},
   "outputs": [],
   "source": [
    "printanagramsetsinreverseorder(d)"
   ]
  },
  {
   "cell_type": "markdown",
   "metadata": {},
   "source": [
    "*Here's the code for the third part of the exercise:*"
   ]
  },
  {
   "cell_type": "code",
   "execution_count": null,
   "metadata": {},
   "outputs": [],
   "source": [
    "d = Dict()\n",
    "\n",
    "function findscrabblebingo(list, n)\n",
    "    for line in eachline(list)\n",
    "        word = lowercase(strip(line))\n",
    "        if length(word) == n\n",
    "            s = signature(word)\n",
    "\n",
    "            if s ∉ keys(d)\n",
    "                d[s] = [word]\n",
    "            else \n",
    "                append!(d[s], [word])\n",
    "            end\n",
    "        end\n",
    "    end\n",
    "\n",
    "    \n",
    "    t = printanagramsetsinreverseorder(d)\n",
    "    return t\n",
    "end"
   ]
  },
  {
   "cell_type": "code",
   "execution_count": null,
   "metadata": {},
   "outputs": [],
   "source": [
    "fin = open(\"C:\\\\Users\\\\MC\\\\Desktop\\\\ThinkJulia\\\\words.txt\")"
   ]
  },
  {
   "cell_type": "code",
   "execution_count": null,
   "metadata": {},
   "outputs": [],
   "source": [
    "findscrabblebingo(fin, 8)"
   ]
  },
  {
   "cell_type": "markdown",
   "metadata": {},
   "source": [
    "##### Exercise 12-4\n",
    "\n",
    "\n",
    "Two words form a “metathesis pair” if you can transform one into the other by swapping two letters; for example, “converse” and “conserve”. Write a program that finds all of the metathesis pairs in the dictionary.\n",
    "\n",
    "TIP\n",
    "Don’t test all pairs of words, and don’t test all possible swaps.\n",
    "\n",
    "Credit: This exercise is inspired by an example at http://puzzlers.org."
   ]
  },
  {
   "cell_type": "code",
   "execution_count": null,
   "metadata": {},
   "outputs": [],
   "source": [
    "function findmetapairs(words)\n",
    "    for A in 1:(length(words) - 1)\n",
    "        for B in (A+1):length(words)\n",
    "            a = words[A]\n",
    "            b = words[B]\n",
    "            H = 1:length(a)\n",
    "            for i in 1:(length(a) - 1)\n",
    "                for j in (i + 1):length(a)\n",
    "                    k = \"\"\n",
    "                    l = \"\"\n",
    "                    for h in H\n",
    "                        if h != i && h != j\n",
    "                            k *= a[h]\n",
    "                            l *= b[h]\n",
    "                        end\n",
    "                    end\n",
    "                    if k == l && a[j] == b[i] && a[i] == b[j]\n",
    "                        return(a, b)\n",
    "                    end\n",
    "                end\n",
    "            end\n",
    "        end\n",
    "    end\n",
    "end"
   ]
  },
  {
   "cell_type": "code",
   "execution_count": null,
   "metadata": {},
   "outputs": [],
   "source": [
    "fin = open(\"C:\\\\Users\\\\MC\\\\Desktop\\\\ThinkJulia\\\\words.txt\")"
   ]
  },
  {
   "cell_type": "code",
   "execution_count": null,
   "metadata": {},
   "outputs": [],
   "source": [
    "d = createbaseanagram(fin);"
   ]
  },
  {
   "cell_type": "code",
   "execution_count": null,
   "metadata": {},
   "outputs": [],
   "source": [
    "anagram_sets = []\n",
    "    \n",
    "for v in values(d)\n",
    "    if length(v) > 1 && v[1] != v[2]\n",
    "        push!(anagram_sets, v)\n",
    "    end\n",
    "end\n"
   ]
  },
  {
   "cell_type": "code",
   "execution_count": null,
   "metadata": {},
   "outputs": [],
   "source": [
    "meta = []\n",
    "\n",
    "for as in anagram_sets\n",
    "    k = findmetapairs(as)\n",
    "    if k != nothing\n",
    "        push!(meta, k)\n",
    "    end\n",
    "    \n",
    "end\n",
    "\n",
    "meta\n",
    "    "
   ]
  },
  {
   "cell_type": "markdown",
   "metadata": {},
   "source": [
    "##### Exercise 12-5\n",
    "Here’s another Car Talk Puzzler (https://www.cartalk.com/puzzler/browse):\n",
    "\n",
    ">*\"What is the longest English word, that remains a valid English word, as you remove its letters one at a time?*\n",
    "\n",
    ">*Now, letters can be removed from either end, or the middle, but you can’t rearrange any of the letters. Every time you drop a letter, you wind up with another English word. If you do that, you’re eventually going to wind up with one letter and that too is going to be an English word—one that’s found in the dictionary. I want to know what’s the longest word and how many letters does it have?*\n",
    "\n",
    ">*I’m going to give you a little modest example: Sprite. Ok? You start off with sprite, you take a letter off, one from the interior of the word, take the r away, and we’re left with the word spite, then we take the e off the end, we’re left with spit, we take the s off, we’re left with pit, it, and I.*\n",
    "\n",
    "Write a program to find all words that can be reduced in this way, and then find the longest one.\n",
    "\n",
    "\t\n",
    "This exercise is a little more challenging than most, so here are some suggestions:\n",
    "\n",
    "> 1. You might want to write a function that takes a word and computes an array of all the words that can be formed by removing one letter. These are the “children” of the word.\n",
    "\n",
    "> 2. Recursively, a word is reducible if any of its children are reducible. As a base case, you can consider the empty string reducible.\n",
    "\n",
    "> 3. The word list I provided, *words.txt*, doesn’t contain single letter words. So you might want to add “I”, “a”, and the empty string.\n",
    "\n",
    "> 4. To improve the performance of your program, you might want to memoize the words that are known to be reducible."
   ]
  },
  {
   "cell_type": "markdown",
   "metadata": {},
   "source": [
    "*This was by far the most challenging piece of code in the book.  I spent several hours trying to devise my own functions, but eventually threw in the towel and resorted to \"peeking\" at the code at the [GitHub repo for the author of __\"Think Python\"__](https://github.com/AllenDowney/ThinkPython2/blob/master/code/reducible.py \"reducible.py\").*\n",
    "\n",
    "*That said, it still took me several hours to adapt the Python code into working Julia code.  Julia handles Booleans, indexing, empty arrays, etc... quite differently from Python, so it took many trials (and a lot of error), for me to get the comparable Julia code.*\n",
    "\n",
    "*To keep everything tidy I erased most of my original attempts at the functions for this exercise.  However, there are drafts of the original code in my gmail inbox.*"
   ]
  },
  {
   "cell_type": "code",
   "execution_count": 1,
   "metadata": {},
   "outputs": [
    {
     "data": {
      "text/plain": [
       "IOStream(<file C:\\Users\\MC\\Desktop\\ThinkJulia\\wordsEdited.txt>)"
      ]
     },
     "execution_count": 1,
     "metadata": {},
     "output_type": "execute_result"
    }
   ],
   "source": [
    "newfin = open(\"C:\\\\Users\\\\MC\\\\Desktop\\\\ThinkJulia\\\\wordsEdited.txt\")"
   ]
  },
  {
   "cell_type": "code",
   "execution_count": 2,
   "metadata": {},
   "outputs": [
    {
     "data": {
      "text/plain": [
       "Dict{Any,Any} with 113814 entries:\n",
       "  \"epinaoi\"         => nothing\n",
       "  \"nimbused\"        => nothing\n",
       "  \"pintoes\"         => nothing\n",
       "  \"interties\"       => nothing\n",
       "  \"inattentive\"     => nothing\n",
       "  \"cliquing\"        => nothing\n",
       "  \"photosynthesis\"  => nothing\n",
       "  \"sleepwalking\"    => nothing\n",
       "  \"chicanes\"        => nothing\n",
       "  \"lunk\"            => nothing\n",
       "  \"ethmoids\"        => nothing\n",
       "  \"reemitted\"       => nothing\n",
       "  \"henry\"           => nothing\n",
       "  \"hotheadednesses\" => nothing\n",
       "  \"planches\"        => nothing\n",
       "  \"entomb\"          => nothing\n",
       "  \"whiz\"            => nothing\n",
       "  \"redresses\"       => nothing\n",
       "  \"wormwoods\"       => nothing\n",
       "  \"hipnesses\"       => nothing\n",
       "  \"effacer\"         => nothing\n",
       "  \"clapboards\"      => nothing\n",
       "  \"overgrew\"        => nothing\n",
       "  \"swirliest\"       => nothing\n",
       "  \"doodlers\"        => nothing\n",
       "  ⋮                 => ⋮"
      ]
     },
     "execution_count": 2,
     "metadata": {},
     "output_type": "execute_result"
    }
   ],
   "source": [
    "worddict = Dict()\n",
    "\n",
    "for line in eachline(newfin)\n",
    "    word = lowercase(strip(line))\n",
    "    worddict[word] = nothing\n",
    "end\n",
    "\n",
    "for letter in ['a', 'i', \"\"]\n",
    "    worddict[letter] = letter\n",
    "end\n",
    "\n",
    "worddict"
   ]
  },
  {
   "cell_type": "code",
   "execution_count": 3,
   "metadata": {},
   "outputs": [
    {
     "data": {
      "text/plain": [
       "children (generic function with 1 method)"
      ]
     },
     "execution_count": 3,
     "metadata": {},
     "output_type": "execute_result"
    }
   ],
   "source": [
    "\"\"\"\n",
    "    children(word, worddict)\n",
    "\n",
    "Returns a list of all words that can be formed by removing one letter.\n",
    "\"\"\"\n",
    "\n",
    "function children(word, worddict)\n",
    "    \n",
    "    res = []\n",
    "    l = length(word)\n",
    "    \n",
    "    if l == 1\n",
    "        push!(res, \"\")\n",
    "    else\n",
    "        for i in 1:l\n",
    "            child = word[1:(i - 1)] * word[(i + 1):end]\n",
    "            if child in keys(worddict)\n",
    "                push!(res, child)\n",
    "            end\n",
    "        end\n",
    "    end\n",
    "    if length(res) > 0\n",
    "        return res\n",
    "    else \n",
    "        return false\n",
    "    end\n",
    "end"
   ]
  },
  {
   "cell_type": "code",
   "execution_count": 4,
   "metadata": {},
   "outputs": [
    {
     "data": {
      "text/plain": [
       "isreducible (generic function with 1 method)"
      ]
     },
     "execution_count": 4,
     "metadata": {},
     "output_type": "execute_result"
    }
   ],
   "source": [
    "\"\"\"\n",
    "    isreducible(word, worddict)\n",
    "\n",
    "Returns a list of its reducible children if a word is reducible.\n",
    "A string is reducible if it has at least one child that is also reducible.\n",
    "The empty string is considered to be reducible.\n",
    "Adds an entry to the memo dictionary.\n",
    "\"\"\"\n",
    "\n",
    "memo = Dict()\n",
    "memo[\"\"] = [\"\"]\n",
    "\n",
    "function isreducible(word, worddict)\n",
    "    \n",
    "    if word ∈ keys(memo)\n",
    "        return memo[word]\n",
    "    end\n",
    "    \n",
    "    res = []\n",
    "    for child in children(word, worddict)\n",
    "        if isreducible(child, worddict) != [] && isreducible(child, worddict) != [false]\n",
    "            push!(res, child)   \n",
    "        end\n",
    "    end\n",
    "    \n",
    "    memo[word] = res\n",
    "    return res\n",
    "end\n",
    "    "
   ]
  },
  {
   "cell_type": "code",
   "execution_count": 5,
   "metadata": {},
   "outputs": [
    {
     "data": {
      "text/plain": [
       "allreducible (generic function with 1 method)"
      ]
     },
     "execution_count": 5,
     "metadata": {},
     "output_type": "execute_result"
    }
   ],
   "source": [
    "\"\"\"\n",
    "    allreducible(worddict)\n",
    "\n",
    "Checks all words in the worddict and returns a list of reducible ones.\n",
    "\"\"\"\n",
    "\n",
    "function allreducible(worddict)\n",
    "    res = []\n",
    "    for word in collect(keys(worddict))        \n",
    "        t = isreducible(word, worddict)\n",
    "        if t != [] && t!= [false]\n",
    "            push!(res, word)  \n",
    "        end\n",
    "    end\n",
    "    return res\n",
    "end"
   ]
  },
  {
   "cell_type": "code",
   "execution_count": 6,
   "metadata": {},
   "outputs": [
    {
     "data": {
      "text/plain": [
       "printtrail (generic function with 1 method)"
      ]
     },
     "execution_count": 6,
     "metadata": {},
     "output_type": "execute_result"
    }
   ],
   "source": [
    "\"\"\"\n",
    "    printtrail(word, worddict)\n",
    "\n",
    "Prints the sequence of words that reduces this word to the empty string.\n",
    "Chooses the first if there is more than one word in the array of reducible words.\n",
    "\"\"\"\n",
    "\n",
    "function printtrail(word, worddict)\n",
    "    \n",
    "    if length(word) == 0\n",
    "        return\n",
    "    end\n",
    "    \n",
    "    print(word, \" \")\n",
    "    t = isreducible(word, worddict)\n",
    "    printtrail(t[1], worddict)\n",
    "end"
   ]
  },
  {
   "cell_type": "code",
   "execution_count": 7,
   "metadata": {},
   "outputs": [
    {
     "data": {
      "text/plain": [
       "printlongestwords (generic function with 2 methods)"
      ]
     },
     "execution_count": 7,
     "metadata": {},
     "output_type": "execute_result"
    }
   ],
   "source": [
    "\"\"\"\n",
    "    printlongestwords(worddict, n = 5)\n",
    "\n",
    "Finds the longest reducible words in the dictionary and prints them and their trails.\n",
    "\"\"\"\n",
    "\n",
    "function printlongestwords(worddict, n = 5)\n",
    "    \n",
    "    words = allreducible(worddict)\n",
    "    \n",
    "    t = []\n",
    "    for word in words\n",
    "        push!(t, (length(word), word))\n",
    "    end\n",
    "    t = reverse(sort!(t, by = x -> x[1]))\n",
    "    \n",
    "    for (x, word) in t[1:n]\n",
    "        printtrail(word, worddict)\n",
    "        println(\"\\n\")\n",
    "    end\n",
    "end"
   ]
  },
  {
   "cell_type": "code",
   "execution_count": 8,
   "metadata": {},
   "outputs": [
    {
     "name": "stdout",
     "output_type": "stream",
     "text": [
      "complecting completing competing compting comping coping oping ping pig pi i \n",
      "\n",
      "insolating isolating solating slating sating sting ting tin in i \n",
      "\n",
      "restarting restating estating stating sating sting ting tin in i \n",
      "\n",
      "twitchiest witchiest withiest withies withes wites wits its is i \n",
      "\n",
      "staunchest stanchest stanches stances stanes sanes anes ane ae a \n",
      "\n",
      "carrousels carousels carouses arouses arouse arose arse are ae a \n",
      "\n",
      "completing competing compting comping coping oping ping pig pi i \n",
      "\n",
      "stranglers strangers stranger strange strang stang tang tag ta a \n",
      "\n",
      "lacerated acerated cerated crated rated rate ate ae a \n",
      "\n",
      "splitting slitting sitting siting sting ting tin in i \n",
      "\n",
      "spiriting spirting spiting siting sting ting tin in i \n",
      "\n",
      "cocreates cocreate ocreate create crate rate ate ae a \n",
      "\n",
      "plaisters plasters lasters lasers lases lass ass as a \n",
      "\n",
      "stropping stopping topping toping oping ping pig pi i \n",
      "\n",
      "islanders slanders landers laders lades lads ads as a \n",
      "\n",
      "ministers minsters misters misers mises miss mis is i \n",
      "\n",
      "carrousel carousel carouse arouse arose arse are ae a \n",
      "\n",
      "outranges outrange outrang ourang orang rang ran an a \n",
      "\n",
      "outranged outrange outrang ourang orang rang ran an a \n",
      "\n",
      "refloated reflated related elated lated late ate ae a \n",
      "\n"
     ]
    }
   ],
   "source": [
    "printlongestwords(worddict, 20)"
   ]
  }
 ],
 "metadata": {
  "@webio": {
   "lastCommId": null,
   "lastKernelId": null
  },
  "kernelspec": {
   "display_name": "Julia 1.1.0",
   "language": "julia",
   "name": "julia-1.1"
  },
  "language_info": {
   "file_extension": ".jl",
   "mimetype": "application/julia",
   "name": "julia",
   "version": "1.1.0"
  }
 },
 "nbformat": 4,
 "nbformat_minor": 2
}
